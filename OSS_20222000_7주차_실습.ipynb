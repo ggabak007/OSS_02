{
  "nbformat": 4,
  "nbformat_minor": 0,
  "metadata": {
    "colab": {
      "provenance": []
    },
    "kernelspec": {
      "name": "python3",
      "display_name": "Python 3"
    },
    "language_info": {
      "name": "python"
    }
  },
  "cells": [
    {
      "cell_type": "code",
      "execution_count": 1,
      "metadata": {
        "colab": {
          "base_uri": "https://localhost:8080/"
        },
        "id": "NBgdUnhbB-y7",
        "outputId": "fc32371b-ca48-4008-dd3f-60907f619ddc"
      },
      "outputs": [
        {
          "output_type": "execute_result",
          "data": {
            "text/plain": [
              "Customer(name='Park', fidelity=100)"
            ]
          },
          "metadata": {},
          "execution_count": 1
        }
      ],
      "source": [
        "#예제 1\n",
        "from abc import ABC, abstractmethod\n",
        "from collections import namedtuple\n",
        "\n",
        "Customer = namedtuple('Customer', 'name fidelity')\n",
        "\n",
        "park = Customer('Park',100)\n",
        "park"
      ]
    },
    {
      "cell_type": "code",
      "source": [
        "class LineItem:\n",
        "  def __init__(self, product, quantity, price):\n",
        "    self.product = product\n",
        "    self.quantity = quantity\n",
        "    self.price = price\n",
        "\n",
        "  def total(self):\n",
        "    return self.price * self.quantity\n",
        "\n",
        "class Order:\n",
        "  def __init__(self,customer, cart, promotion = None):\n",
        "    self.customer = customer\n",
        "    self.cart = list(cart)\n",
        "    self.promotion = promotion\n",
        "\n",
        "  def total(self):\n",
        "    if not hasattr(self,'__total'):\n",
        "      self.__total = sum(item.total() for item in self.cart)\n",
        "    return self.__total\n",
        "\n",
        "  def due(self):\n",
        "    if self.promotion is None:\n",
        "      discount = 0\n",
        "    else:\n",
        "      discount = self.promotion.discount(self)\n",
        "    return self.total() - discount\n",
        "\n",
        "  def __repr__(self):\n",
        "    fmt = '<Order total: {:.2f} due: {:.2f}>'\n",
        "    return fmt.format(self.total(), self.due())"
      ],
      "metadata": {
        "id": "3bAFLzoUCAKk"
      },
      "execution_count": 2,
      "outputs": []
    },
    {
      "cell_type": "code",
      "source": [
        "class Promotion(ABC):\n",
        "\n",
        "  def discount(self, order):\n",
        "    pass\n",
        "\n",
        "class FidelityPromo(Promotion):\n",
        "  def discount(self,order):\n",
        "    return order.total() * 0.05 if order.customer.fidelity >=1000 else 0\n",
        "\n",
        "class BulkItemPromo(Promotion):\n",
        "  def discount(self,order):\n",
        "    discount = 0\n",
        "    for item in order.cart:\n",
        "      if item.quantity >=20:\n",
        "        discount += item.total() * 0.1\n",
        "    return discount\n",
        "\n",
        "class LargeOrderPromo(Promotion):\n",
        "  def discount(self,order):\n",
        "    distinct_items = {item.product for item in order.cart}\n",
        "    if len(distinct_items)>=10:\n",
        "      return order.total() * 0.07\n",
        "    return 0"
      ],
      "metadata": {
        "id": "k6JpsRPKCAOj"
      },
      "execution_count": 12,
      "outputs": []
    },
    {
      "cell_type": "code",
      "source": [
        "#예제 2\n",
        "joe = Customer('John Doe',0)\n",
        "ann = Customer('Ahn Smith',1100)\n",
        "cart = [LineItem('banana',4,.5),LineItem('apple',10,1.5),LineItem('watermellon',5,5.6)]\n",
        "\n",
        "Order(joe,cart,FidelityPromo())"
      ],
      "metadata": {
        "colab": {
          "base_uri": "https://localhost:8080/"
        },
        "id": "2fxw4zh-CAQu",
        "outputId": "3210c516-3f57-4084-8464-2f62db2ec144"
      },
      "execution_count": 6,
      "outputs": [
        {
          "output_type": "execute_result",
          "data": {
            "text/plain": [
              "<Order total: 45.00 due: 45.00>"
            ]
          },
          "metadata": {},
          "execution_count": 6
        }
      ]
    },
    {
      "cell_type": "code",
      "source": [
        "Order(ann,cart,FidelityPromo())"
      ],
      "metadata": {
        "colab": {
          "base_uri": "https://localhost:8080/"
        },
        "id": "Bs1QadtqCAVb",
        "outputId": "58469ebf-bc8a-4641-c1b4-3eb79998e83b"
      },
      "execution_count": 7,
      "outputs": [
        {
          "output_type": "execute_result",
          "data": {
            "text/plain": [
              "<Order total: 45.00 due: 42.75>"
            ]
          },
          "metadata": {},
          "execution_count": 7
        }
      ]
    },
    {
      "cell_type": "code",
      "source": [
        "banana_cart = [LineItem('banana',30,.5),LineItem('apple',10,1.5)]\n",
        "Order(joe,banana_cart,BulkItemPromo())"
      ],
      "metadata": {
        "colab": {
          "base_uri": "https://localhost:8080/"
        },
        "id": "unbysm9WCAXt",
        "outputId": "77d31d53-a3ef-46c9-f1fb-9520de23155f"
      },
      "execution_count": 13,
      "outputs": [
        {
          "output_type": "execute_result",
          "data": {
            "text/plain": [
              "<Order total: 30.00 due: 28.50>"
            ]
          },
          "metadata": {},
          "execution_count": 13
        }
      ]
    },
    {
      "cell_type": "code",
      "source": [
        "long_order = [LineItem(str(item_code),1,1.0) for item_code in range(10)]\n",
        "Order(joe,long_order,LargeOrderPromo())"
      ],
      "metadata": {
        "colab": {
          "base_uri": "https://localhost:8080/"
        },
        "id": "lkQCycTZCAcG",
        "outputId": "a7c090b5-c14b-4cdf-cfc6-df49330beee0"
      },
      "execution_count": 18,
      "outputs": [
        {
          "output_type": "execute_result",
          "data": {
            "text/plain": [
              "<Order total: 10.00 due: 9.30>"
            ]
          },
          "metadata": {},
          "execution_count": 18
        }
      ]
    },
    {
      "cell_type": "code",
      "source": [
        "Order(joe,cart,LargeOrderPromo())"
      ],
      "metadata": {
        "colab": {
          "base_uri": "https://localhost:8080/"
        },
        "id": "zmFfDBIKJ970",
        "outputId": "c67d1d53-a90c-4c60-c5d4-6f43f438964c"
      },
      "execution_count": 17,
      "outputs": [
        {
          "output_type": "execute_result",
          "data": {
            "text/plain": [
              "<Order total: 45.00 due: 45.00>"
            ]
          },
          "metadata": {},
          "execution_count": 17
        }
      ]
    },
    {
      "cell_type": "code",
      "source": [
        "#예제 3\n",
        "\n",
        "class Order:\n",
        "   def __init__(self,customer, cart, promotion = None):\n",
        "    self.customer = customer\n",
        "    self.cart = list(cart)\n",
        "    self.promotion = promotion\n",
        "\n",
        "   def total(self):\n",
        "    if not hasattr(self,'__total'):\n",
        "      self.__total = sum(item.total() for item in self.cart)\n",
        "    return self.__total\n",
        "\n",
        "   def due(self):\n",
        "    if self.promotion is None:\n",
        "      discount = 0\n",
        "    else:\n",
        "      discount = self.promotion(self)\n",
        "    return self.total() - discount\n",
        "\n",
        "   def __repr__(self):\n",
        "    fmt = '<Order total: {:.2f} due: {:.2f}>'\n",
        "    return fmt.format(self.total(), self.due())\n",
        "\n",
        "def fidelity_promo(order):\n",
        "    return order.total() * 0.05 if order.customer.fidelity >=1000 else 0\n",
        "\n",
        "def bulk_item_promo(order):\n",
        "    discount = 0\n",
        "    for item in order.cart:\n",
        "      if item.quantity >=20:\n",
        "        discount += item.total() * 0.1\n",
        "    return discount\n",
        "\n",
        "def large_order_promo(order):\n",
        "    distinct_items = {item.product for item in order.cart}\n",
        "    if len(distinct_items)>=10:\n",
        "      return order.total() * 0.07\n",
        "    return 0"
      ],
      "metadata": {
        "id": "4SFl6g0hCAfd"
      },
      "execution_count": 27,
      "outputs": []
    },
    {
      "cell_type": "code",
      "source": [
        "Order(joe, cart, fidelity_promo)"
      ],
      "metadata": {
        "colab": {
          "base_uri": "https://localhost:8080/"
        },
        "id": "wKz7Onq1LA7U",
        "outputId": "60f612b9-964f-4647-f6b9-a4111f97d9ab"
      },
      "execution_count": 29,
      "outputs": [
        {
          "output_type": "execute_result",
          "data": {
            "text/plain": [
              "<Order total: 45.00 due: 45.00>"
            ]
          },
          "metadata": {},
          "execution_count": 29
        }
      ]
    },
    {
      "cell_type": "code",
      "source": [
        "Order(ann,cart,fidelity_promo)"
      ],
      "metadata": {
        "colab": {
          "base_uri": "https://localhost:8080/"
        },
        "id": "Rjc_IAaSLA-y",
        "outputId": "9ab11329-c0cb-4c38-b1e0-fd6c76fb4507"
      },
      "execution_count": 30,
      "outputs": [
        {
          "output_type": "execute_result",
          "data": {
            "text/plain": [
              "<Order total: 45.00 due: 42.75>"
            ]
          },
          "metadata": {},
          "execution_count": 30
        }
      ]
    },
    {
      "cell_type": "code",
      "source": [
        "Order(joe,banana_cart,bulk_item_promo)"
      ],
      "metadata": {
        "colab": {
          "base_uri": "https://localhost:8080/"
        },
        "id": "_wSSZksZL15S",
        "outputId": "eb050a72-1218-4dc3-bf21-38f8f3150250"
      },
      "execution_count": 31,
      "outputs": [
        {
          "output_type": "execute_result",
          "data": {
            "text/plain": [
              "<Order total: 30.00 due: 28.50>"
            ]
          },
          "metadata": {},
          "execution_count": 31
        }
      ]
    },
    {
      "cell_type": "code",
      "source": [
        "Order(ann,long_order,large_order_promo)"
      ],
      "metadata": {
        "colab": {
          "base_uri": "https://localhost:8080/"
        },
        "id": "2_pk2NEIL17R",
        "outputId": "4c4d2599-5752-469c-904a-4808c4ad3ed6"
      },
      "execution_count": 32,
      "outputs": [
        {
          "output_type": "execute_result",
          "data": {
            "text/plain": [
              "<Order total: 10.00 due: 9.30>"
            ]
          },
          "metadata": {},
          "execution_count": 32
        }
      ]
    },
    {
      "cell_type": "code",
      "source": [
        "#예제 4\n",
        "promos = [fidelity_promo, bulk_item_promo, large_order_promo]\n",
        "\n",
        "def best_promo(order):\n",
        "  return max(promo(order) for promo in promos)"
      ],
      "metadata": {
        "id": "vRdOTkEvL_zT"
      },
      "execution_count": 33,
      "outputs": []
    },
    {
      "cell_type": "code",
      "source": [
        "Order(joe,long_order, best_promo)"
      ],
      "metadata": {
        "colab": {
          "base_uri": "https://localhost:8080/"
        },
        "id": "fhkNR0tlL_1Y",
        "outputId": "3e32c7ee-e06c-4ac4-c49b-d606768ed732"
      },
      "execution_count": 34,
      "outputs": [
        {
          "output_type": "execute_result",
          "data": {
            "text/plain": [
              "<Order total: 10.00 due: 9.30>"
            ]
          },
          "metadata": {},
          "execution_count": 34
        }
      ]
    },
    {
      "cell_type": "code",
      "source": [
        "Order(joe, banana_cart,best_promo)"
      ],
      "metadata": {
        "colab": {
          "base_uri": "https://localhost:8080/"
        },
        "id": "TiZWcGlbL_4O",
        "outputId": "0db6041d-ad2d-447a-a388-8e4a41d5006c"
      },
      "execution_count": 35,
      "outputs": [
        {
          "output_type": "execute_result",
          "data": {
            "text/plain": [
              "<Order total: 30.00 due: 28.50>"
            ]
          },
          "metadata": {},
          "execution_count": 35
        }
      ]
    },
    {
      "cell_type": "code",
      "source": [
        "Order(ann,cart,best_promo)"
      ],
      "metadata": {
        "colab": {
          "base_uri": "https://localhost:8080/"
        },
        "id": "zSVHHP0jL19W",
        "outputId": "3de82f94-115b-4f0f-b171-de2bac38cb31"
      },
      "execution_count": 36,
      "outputs": [
        {
          "output_type": "execute_result",
          "data": {
            "text/plain": [
              "<Order total: 45.00 due: 42.75>"
            ]
          },
          "metadata": {},
          "execution_count": 36
        }
      ]
    },
    {
      "cell_type": "code",
      "source": [
        "globals().keys()"
      ],
      "metadata": {
        "colab": {
          "base_uri": "https://localhost:8080/"
        },
        "id": "KuoRr8J2L2AM",
        "outputId": "42003869-7a38-43ac-a25e-c82293dd558e"
      },
      "execution_count": 37,
      "outputs": [
        {
          "output_type": "execute_result",
          "data": {
            "text/plain": [
              "dict_keys(['__name__', '__doc__', '__package__', '__loader__', '__spec__', '__builtin__', '__builtins__', '_ih', '_oh', '_dh', 'In', 'Out', 'get_ipython', 'exit', 'quit', '_', '__', '___', '_i', '_ii', '_iii', '_i1', 'ABC', 'abstractmethod', 'namedtuple', 'Customer', 'park', '_1', '_i2', 'LineItem', 'Order', '_i3', 'joe', 'ann', 'cart', '_i4', '_i5', 'Promotion', 'FidelityPromo', 'BulkItiemPromo', 'LargeOrderPromo', '_i6', '_6', '_i7', '_7', '_i8', 'banana_cart', '_i9', '_i10', '_i11', '_i12', 'BulkItemPromo', '_i13', '_13', '_i14', 'lone_order', '_14', '_i15', '_i16', 'long_order', '_16', '_i17', '_17', '_i18', '_18', '_i19', 'fidelity_promo', 'bulk_item_promo', 'large_order_promo', '_i20', '_i21', '_21', '_i22', '_i23', '_23', '_i24', '_24', '_i25', '_i26', '_26', '_i27', '_i28', '_28', '_i29', '_29', '_i30', '_30', '_i31', '_31', '_i32', '_32', '_i33', 'promos', 'best_promo', '_i34', '_34', '_i35', '_35', '_i36', '_36', '_i37'])"
            ]
          },
          "metadata": {},
          "execution_count": 37
        }
      ]
    },
    {
      "cell_type": "code",
      "source": [
        "globals()['best_promo']"
      ],
      "metadata": {
        "colab": {
          "base_uri": "https://localhost:8080/",
          "height": 103
        },
        "id": "lsdiamLEMWtb",
        "outputId": "e800b641-b8fc-484d-a96b-83454eb2e55d"
      },
      "execution_count": 38,
      "outputs": [
        {
          "output_type": "execute_result",
          "data": {
            "text/plain": [
              "<function __main__.best_promo(order)>"
            ],
            "text/html": [
              "<div style=\"max-width:800px; border: 1px solid var(--colab-border-color);\"><style>\n",
              "      pre.function-repr-contents {\n",
              "        overflow-x: auto;\n",
              "        padding: 8px 12px;\n",
              "        max-height: 500px;\n",
              "      }\n",
              "\n",
              "      pre.function-repr-contents.function-repr-contents-collapsed {\n",
              "        cursor: pointer;\n",
              "        max-height: 100px;\n",
              "      }\n",
              "    </style>\n",
              "    <pre style=\"white-space: initial; background:\n",
              "         var(--colab-secondary-surface-color); padding: 8px 12px;\n",
              "         border-bottom: 1px solid var(--colab-border-color);\"><b>best_promo</b><br/>def best_promo(order)</pre><pre class=\"function-repr-contents function-repr-contents-collapsed\" style=\"\"><a class=\"filepath\" style=\"display:none\" href=\"#\">/tmp/ipython-input-1025544800.py</a>&lt;no docstring&gt;</pre></div>"
            ]
          },
          "metadata": {},
          "execution_count": 38
        }
      ]
    },
    {
      "cell_type": "code",
      "source": [
        "#예제 6\n",
        "promos = [globals()[name] for name in globals() if name.endswith('_promo') and name != 'best_promo']\n",
        "promos"
      ],
      "metadata": {
        "colab": {
          "base_uri": "https://localhost:8080/"
        },
        "id": "OFfClg7RMWwy",
        "outputId": "7232acf3-10b7-4f30-ce0f-eb935ac2a179"
      },
      "execution_count": 40,
      "outputs": [
        {
          "output_type": "execute_result",
          "data": {
            "text/plain": [
              "[<function __main__.fidelity_promo(order)>,\n",
              " <function __main__.bulk_item_promo(order)>,\n",
              " <function __main__.large_order_promo(order)>]"
            ]
          },
          "metadata": {},
          "execution_count": 40
        }
      ]
    }
  ]
}